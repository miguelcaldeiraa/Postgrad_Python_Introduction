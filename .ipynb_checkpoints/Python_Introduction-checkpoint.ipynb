{
 "cells": [
  {
   "cell_type": "markdown",
   "id": "6669c15c-12f9-45e5-bc06-921ec4d17d59",
   "metadata": {},
   "source": [
    "# Introduction to Pyhton\n",
    "https://docs.python.org/3/library/index.html"
   ]
  },
  {
   "cell_type": "markdown",
   "id": "7dd19833-1ad2-4d2e-a736-d8b2b2a02f4e",
   "metadata": {},
   "source": [
    "### help()"
   ]
  },
  {
   "cell_type": "code",
   "execution_count": null,
   "id": "4355670b-f5f9-4331-920a-77b321a1be58",
   "metadata": {
    "scrolled": true
   },
   "outputs": [],
   "source": [
    "# Type help(anything) and you can read documentation on it\n",
    "help(help)"
   ]
  },
  {
   "cell_type": "code",
   "execution_count": null,
   "id": "cbc724fa-a71e-483a-b869-c5ce8e414eaa",
   "metadata": {
    "scrolled": true
   },
   "outputs": [],
   "source": [
    "help(type)"
   ]
  },
  {
   "cell_type": "markdown",
   "id": "2984aa62-c380-40e0-9806-54f3a6a534b0",
   "metadata": {},
   "source": [
    "## Variables\n",
    "- A variable is a placeholder for some value. Think of it \n",
    "like a box where you can put anything you want and\r\n",
    "retrieve it later."
   ]
  },
  {
   "cell_type": "code",
   "execution_count": null,
   "id": "bc54d0fa-8d86-4c27-beca-903c45cac922",
   "metadata": {},
   "outputs": [],
   "source": [
    "# a, b and name are all variables.\n",
    "# The = operator assigns a value (any value) to the variable.\n",
    "a = 3.14\n",
    "b = 2\n",
    "name = \"Dr. Andrew Ng\"\n",
    "# We can also assign the value of a variable to another variable. c now has the value of a, which is 3.14.\n",
    "c = a\n",
    "# And we can overwrite the value of a particular value. The value of a is not 42 instead of 3.14. But c is still 3.14!\n",
    "a = 42\n",
    "# The print function will come in handy to check the values of variables.\n",
    "print(\"Hello Universe!\")\n",
    "print(a)\n",
    "print(name)\n",
    "print(a, b, c)"
   ]
  },
  {
   "cell_type": "code",
   "execution_count": null,
   "id": "ac100b8c-11d5-4bd4-8e2c-6e052536e47e",
   "metadata": {},
   "outputs": [],
   "source": [
    "help(print)"
   ]
  },
  {
   "cell_type": "markdown",
   "id": "04d57cb2-63ab-4bf4-bd73-1956d9080aa2",
   "metadata": {},
   "source": [
    "## Input/Output\n",
    "- Interacting with the outside\n",
    "    - Terminal\n",
    "        - print: send values to user\n",
    "        - input: reveice values from user\n",
    "    - Files\n",
    "    - Networking\n",
    "    - GUI's\n",
    "    - Pipes"
   ]
  },
  {
   "cell_type": "markdown",
   "id": "b563ab5c-d4b4-4fb1-90f0-870f086dcded",
   "metadata": {},
   "source": [
    "### print/input"
   ]
  },
  {
   "cell_type": "code",
   "execution_count": null,
   "id": "be6063cf-386b-4fe4-87be-59829929441a",
   "metadata": {},
   "outputs": [],
   "source": [
    "print(\"Type your first and last name:\")\n",
    "name = input()\n",
    "age = input(\"Type your age:\")\n",
    "print(name, \"é um velho com\", age)"
   ]
  },
  {
   "cell_type": "markdown",
   "id": "c7009cc2-5632-4ab0-9baa-5cb494c5d593",
   "metadata": {},
   "source": [
    "### Basic Types \n",
    "- https://docs.python.org/3/library/stdtypes.html\n",
    "- Basic Types: Conversion\n",
    "    - Numeric: Rounding / Operations\n",
    "        - Integers\n",
    "        - Floats\n",
    "    - Strings: Operations / f formated strings"
   ]
  },
  {
   "cell_type": "markdown",
   "id": "9692fb8e-6dd0-48c9-a6e4-d15138aabdc9",
   "metadata": {},
   "source": [
    "### type()\n",
    "- The type() function in Python is used to get the type of an object"
   ]
  },
  {
   "cell_type": "code",
   "execution_count": null,
   "id": "296691e3-fd4c-45c1-b9f7-5800c54c9d67",
   "metadata": {},
   "outputs": [],
   "source": [
    "# Numeric float\n",
    "a = 3.14\n",
    "type(a)"
   ]
  },
  {
   "cell_type": "code",
   "execution_count": null,
   "id": "bd5a1e83-36b2-43e0-9664-6922d4d76e94",
   "metadata": {},
   "outputs": [],
   "source": [
    "# Numeric int\n",
    "b = 2\n",
    "type(b)"
   ]
  },
  {
   "cell_type": "code",
   "execution_count": null,
   "id": "3b26cc3a-1951-4c3c-ad71-8926a2df30c3",
   "metadata": {},
   "outputs": [],
   "source": [
    "# Sting - used to encode text\n",
    "name = \"Dr. Andrew Ng\"\n",
    "type(name)"
   ]
  },
  {
   "cell_type": "code",
   "execution_count": null,
   "id": "b137195e-d07a-4c79-9db0-23baf6252a65",
   "metadata": {},
   "outputs": [],
   "source": [
    "# List\n",
    "contagem = [1, 2, 3]\n",
    "type(contagem)"
   ]
  },
  {
   "cell_type": "code",
   "execution_count": null,
   "id": "b90e701e-fe33-47bf-9061-d9544de712f0",
   "metadata": {},
   "outputs": [],
   "source": [
    "# Bolean encondes a True or False value\n",
    "b1 = True\n",
    "b2 = False\n",
    "type(b2)"
   ]
  },
  {
   "cell_type": "code",
   "execution_count": null,
   "id": "4ffebeb4-9b9a-4013-a93d-edac30e522f7",
   "metadata": {},
   "outputs": [],
   "source": [
    "# A dictionary is a collection of key-value pairs where each key is unique and associated with a specific value\n",
    "frutas = {\"apple\": 3, \"banana\": 2}\n",
    "type(frutas)"
   ]
  },
  {
   "cell_type": "code",
   "execution_count": null,
   "id": "f86ab158-a312-4263-9eae-baa6f0b33994",
   "metadata": {},
   "outputs": [],
   "source": [
    "# A set is a collection of unique and unordered elements\n",
    "conjunto = {3, 2, 5, 3}\n",
    "type(conjunto)"
   ]
  },
  {
   "cell_type": "code",
   "execution_count": null,
   "id": "7887767c-7bda-4dac-8f94-35ae0044082b",
   "metadata": {},
   "outputs": [],
   "source": [
    "print(conjunto)"
   ]
  },
  {
   "cell_type": "code",
   "execution_count": null,
   "id": "ddd3affd-8186-482c-88cc-ef8fa17c7b48",
   "metadata": {},
   "outputs": [],
   "source": [
    "type(lambda x: x*2)"
   ]
  },
  {
   "cell_type": "code",
   "execution_count": null,
   "id": "1996ee35-47d5-49aa-9f92-6f1c551820cc",
   "metadata": {},
   "outputs": [],
   "source": [
    "import math\n",
    "type(math)"
   ]
  },
  {
   "cell_type": "code",
   "execution_count": null,
   "id": "3b81f2a0-946d-4e4b-809d-b321ab1cb8f3",
   "metadata": {},
   "outputs": [],
   "source": [
    "class MyClass:\n",
    "    pass\n",
    "\n",
    "obj = MyClass()\n",
    "type(obj)"
   ]
  },
  {
   "cell_type": "code",
   "execution_count": null,
   "id": "849b66ea-950d-4e8d-ab98-1310fabf735f",
   "metadata": {},
   "outputs": [],
   "source": [
    "# Creating a range object representing a sequence of numbers from 0 to 9\n",
    "seq = range(10)\n",
    "\n",
    "# Iterating over the numbers in the range object\n",
    "for num in seq:\n",
    "    print(num)\n",
    "type(seq)"
   ]
  },
  {
   "cell_type": "markdown",
   "id": "3b0f97c3-74e1-4415-8872-432def4c2d2a",
   "metadata": {},
   "source": [
    "### Numeric types: int & float\n",
    "- Operations: + - * (**) / // % \n",
    "- Conversion"
   ]
  },
  {
   "cell_type": "code",
   "execution_count": null,
   "id": "91114af4-82a0-4600-9023-8a4d0a2398e0",
   "metadata": {},
   "outputs": [],
   "source": [
    "sum = 2+3+2\n",
    "print(sum)"
   ]
  },
  {
   "cell_type": "code",
   "execution_count": null,
   "id": "0dd6aba6-73b7-4785-ae5e-baef500337f0",
   "metadata": {},
   "outputs": [],
   "source": [
    "subtraction = 7-3\n",
    "print(subtraction)"
   ]
  },
  {
   "cell_type": "code",
   "execution_count": null,
   "id": "392f365c-c8ed-41a5-989d-9ea52d01bf02",
   "metadata": {},
   "outputs": [],
   "source": [
    "total = (2**3)*2\n",
    "print(total)"
   ]
  },
  {
   "cell_type": "code",
   "execution_count": null,
   "id": "52a6f74a-530a-42dc-95b6-2a8dd5d2166c",
   "metadata": {},
   "outputs": [],
   "source": [
    "division = 3/2\n",
    "print(division)"
   ]
  },
  {
   "cell_type": "code",
   "execution_count": null,
   "id": "a2d55223-7995-4167-9e7c-c245a81770d2",
   "metadata": {},
   "outputs": [],
   "source": [
    "whole_division_1 = 3//1\n",
    "whole_division_2 = 3//2\n",
    "whole_division_3 = 3//3\n",
    "whole_division_4 = 3//4\n",
    "print(whole_division_1)\n",
    "print(whole_division_2)\n",
    "print(whole_division_3)\n",
    "print(whole_division_4)"
   ]
  },
  {
   "cell_type": "code",
   "execution_count": null,
   "id": "744746c3-33c3-4db0-9f3d-4b4fbeaa8406",
   "metadata": {},
   "outputs": [],
   "source": [
    "remainder = 3%4\n",
    "print(remainder)"
   ]
  },
  {
   "cell_type": "markdown",
   "id": "fd34142f-0083-4b75-9fc0-2ae2b5ab4acc",
   "metadata": {},
   "source": [
    "### Conversions"
   ]
  },
  {
   "cell_type": "code",
   "execution_count": null,
   "id": "b0892b23-d688-494e-9665-6648ccb51361",
   "metadata": {},
   "outputs": [],
   "source": [
    "# int(): Converte um valor para um inteiro\n",
    "valor_float = 3.14\n",
    "int_converted = int(valor_float)\n",
    "print(int_converted)  # Output: 3"
   ]
  },
  {
   "cell_type": "code",
   "execution_count": null,
   "id": "adc68451-18ae-4ead-83c6-d4f7d5e524f2",
   "metadata": {},
   "outputs": [],
   "source": [
    "type(valor_float)"
   ]
  },
  {
   "cell_type": "code",
   "execution_count": null,
   "id": "6845ec64-1950-4149-b484-aff23e5fecfc",
   "metadata": {},
   "outputs": [],
   "source": [
    "type(int_converted)"
   ]
  },
  {
   "cell_type": "code",
   "execution_count": null,
   "id": "54829165-a287-44ce-92c8-b959864dfad8",
   "metadata": {},
   "outputs": [],
   "source": [
    "# float(): Converte um valor para um número de ponto flutuante\n",
    "valor_str = \"3.14\"\n",
    "float_converted = float(valor_str)\n",
    "print(float_converted)  # Output: 3.14"
   ]
  },
  {
   "cell_type": "code",
   "execution_count": null,
   "id": "22f93055-60e9-4347-bff7-6ff169e400fb",
   "metadata": {},
   "outputs": [],
   "source": [
    "type(valor_str)"
   ]
  },
  {
   "cell_type": "code",
   "execution_count": null,
   "id": "4bfbbe5f-438c-4ce6-b1c4-4226a3392a2e",
   "metadata": {},
   "outputs": [],
   "source": [
    "type(float_converted)"
   ]
  },
  {
   "cell_type": "code",
   "execution_count": null,
   "id": "2a792775-9030-47f2-8a7b-a7c0e2d4e6eb",
   "metadata": {},
   "outputs": [],
   "source": [
    "# str(): Converts a value to a string\n",
    "value_int = 123\n",
    "str_converted = str(value_int)\n",
    "print(str_converted)  # Output: \"123\""
   ]
  },
  {
   "cell_type": "code",
   "execution_count": null,
   "id": "451657af-f6df-497d-b6c7-a26a00e6dc34",
   "metadata": {},
   "outputs": [],
   "source": [
    "type(value_int)"
   ]
  },
  {
   "cell_type": "code",
   "execution_count": null,
   "id": "39c4c8b1-4a6a-49de-bdb0-28bcd62045db",
   "metadata": {},
   "outputs": [],
   "source": [
    "type(str_converted)"
   ]
  },
  {
   "cell_type": "code",
   "execution_count": null,
   "id": "21b28373-e5ab-413f-97ac-0c238d3b26f6",
   "metadata": {},
   "outputs": [],
   "source": [
    "# list(): Converte um iterável para uma lista\n",
    "iteravel_tuple = (1, 2, 3)\n",
    "lista_convertida = list(iteravel_tuple)\n",
    "print(lista_convertida)  # Output: [1, 2, 3]"
   ]
  },
  {
   "cell_type": "code",
   "execution_count": null,
   "id": "ca535010-42ec-4237-bbf0-14f53b72af28",
   "metadata": {},
   "outputs": [],
   "source": [
    "type(iteravel_tuple)"
   ]
  },
  {
   "cell_type": "code",
   "execution_count": null,
   "id": "3c2ab476-81b2-44f7-a892-3432af96ddca",
   "metadata": {},
   "outputs": [],
   "source": [
    "type(lista_convertida)"
   ]
  },
  {
   "cell_type": "code",
   "execution_count": null,
   "id": "fc977f64-3b3e-44ac-b145-c15eac011831",
   "metadata": {},
   "outputs": [],
   "source": [
    "# tuple(): Converts an iterable to a tuple\n",
    "iterable_list = [1, 2, 3]\n",
    "tuple_converted = tuple(iterable_list)\n",
    "print(tuple_converted)  # Output: (1, 2, 3)"
   ]
  },
  {
   "cell_type": "code",
   "execution_count": null,
   "id": "acaaded9-2f70-461c-9c9c-1cb28e3a2eb5",
   "metadata": {},
   "outputs": [],
   "source": [
    "type(iterable_list)"
   ]
  },
  {
   "cell_type": "code",
   "execution_count": null,
   "id": "3f50d741-c520-4f2e-b382-c188b110c165",
   "metadata": {},
   "outputs": [],
   "source": [
    "type(tuple_converted)"
   ]
  },
  {
   "cell_type": "code",
   "execution_count": null,
   "id": "d7c15b88-de73-4938-8154-d8fc06b92e8c",
   "metadata": {},
   "outputs": [],
   "source": [
    "# set(): Converts an iterable to a set (removing duplicates)\n",
    "iterable_set = [1, 2, 2, 3]\n",
    "set_converted = set(iterable_set)\n",
    "print(set_converted)  # Output: {1, 2, 3}"
   ]
  },
  {
   "cell_type": "code",
   "execution_count": null,
   "id": "9e781855-9238-4726-9eaa-7325cc733870",
   "metadata": {},
   "outputs": [],
   "source": [
    "type(iterable_set)"
   ]
  },
  {
   "cell_type": "code",
   "execution_count": null,
   "id": "943f0888-6612-4eb2-81b5-97a269854914",
   "metadata": {},
   "outputs": [],
   "source": [
    "type(set_converted)"
   ]
  },
  {
   "cell_type": "code",
   "execution_count": null,
   "id": "8fe8c215-fd77-43c9-9a41-9fa40fcefc8f",
   "metadata": {},
   "outputs": [],
   "source": [
    "# dict(): Creates a dictionary from a sequence of key-value pairs\n",
    "key_value_pairs = [('a', 1), ('b', 2)]\n",
    "dict_converted = dict(key_value_pairs)\n",
    "print(dict_converted)  # Output: {'a': 1, 'b': 2}"
   ]
  },
  {
   "cell_type": "code",
   "execution_count": null,
   "id": "5babbe98-af88-44e7-b0c0-b70a10638fa3",
   "metadata": {},
   "outputs": [],
   "source": [
    "type(key_value_pairs)"
   ]
  },
  {
   "cell_type": "code",
   "execution_count": null,
   "id": "a50475e7-493b-424f-9c8e-471c8f8523bd",
   "metadata": {},
   "outputs": [],
   "source": [
    "type(dict_converted)"
   ]
  },
  {
   "cell_type": "markdown",
   "id": "2a449256-ec89-4db6-aa85-08193100abc0",
   "metadata": {},
   "source": [
    "### Sting\n",
    "- Sting methods\n",
    "    - https://docs.python.org/3/library/stdtypes.html#string-methods\n",
    "- Formated strings\n",
    "- Conversion"
   ]
  },
  {
   "cell_type": "code",
   "execution_count": null,
   "id": "fb4df7aa-c74f-46ca-b878-976b2f794343",
   "metadata": {},
   "outputs": [],
   "source": [
    "#Concatenation with multiplication\n",
    "#.strip() removes extra whitespace at the beginning and end of the string\n",
    "athlete_name = ((\"Roger\" + \" \" + \"Federer\" + \" \") * 2).strip()\n",
    "print(athlete_name)"
   ]
  },
  {
   "cell_type": "code",
   "execution_count": null,
   "id": "9f71f794-8946-410a-b73f-f68fe52a6feb",
   "metadata": {},
   "outputs": [],
   "source": [
    "# .strip(), .lower() and .upper() are string methods\n",
    "lower_name = (\"Roger\" + \" \" + \"Federer\").lower()\n",
    "upper_name = (\"Roger\" + \" \" + \"Federer\").upper()\n",
    "print(lower_name)\n",
    "print(upper_name)"
   ]
  },
  {
   "cell_type": "markdown",
   "id": "0a09f954-03fc-438c-bfb7-50bfc9b89edb",
   "metadata": {},
   "source": [
    "### EXERCISE - Evolution of investment depending on political party\n",
    "- The investment varies depending on which party you lead: the Bears, Cats, Dogs.\n",
    "- Dogs the rate is 2.5%\n",
    "- Cats the rate is 2.6%\n",
    "- Bears the rate is 100%\n",
    "- Others the rate is 1%\n",
    "\n",
    "|Party|Rate|\n",
    "|-----|----|\n",
    "|Dogs|2.5|\n",
    "|Cats|2.6|\n",
    "|Bears|100|\n",
    "|Others|1|\n"
   ]
  },
  {
   "cell_type": "code",
   "execution_count": null,
   "id": "ffd789e5-198e-4e67-b35a-c6a14cda2ff2",
   "metadata": {},
   "outputs": [],
   "source": [
    "# instructions:\n",
    "# receive the initial investment value\n",
    "initial_value = float(input(\"Initial investment value:\"))\n",
    "\n",
    "# receive which party formed the government\n",
    "party = input(\"Party in government:\")\n",
    "party = party.lower()\n",
    "# assign corresponding rate for that party\n",
    "if party == \"dogs\":\n",
    "  rate = 2.5\n",
    "elif party == \"cats\":\n",
    "  rate = 2.6\n",
    "elif party == \"bears\":\n",
    "  rate = 100\n",
    "else:\n",
    "  rate = 1\n",
    "\n",
    "# normalize rate\n",
    "rate /= 100\n",
    "\n",
    "# the value after 1 year\n",
    "year_1_value = initial_value + initial_value * rate\n",
    "print(f\"Value after 1 year: {year_1_value}\")\n",
    "# the value after 2 years\n",
    "year_2_value = year_1_value * (1 + rate)\n",
    "print(f\"Value after 2 years: {year_2_value}\")\n",
    "# the value after 3 years\n",
    "year_3_value = year_2_value * (1 + rate)\n",
    "print(f\"Value after 3 years: {year_3_value}\")  # f means format, is the same\n",
    "print(\"Value after 3 years: {}\".format(year_3_value))\n",
    "print(\"Value after 3 years: %f\" % year_3_value)  # Three methods of accomplishing this"
   ]
  },
  {
   "cell_type": "markdown",
   "id": "c880e4f9-a7d4-46eb-b89c-0243f62c3398",
   "metadata": {},
   "source": [
    "This code is too repetitive and tiresome; it needs to be reviewed and done in cycles"
   ]
  },
  {
   "cell_type": "markdown",
   "id": "5f15b85c-9436-40cb-bcf2-9c306a6e91e6",
   "metadata": {},
   "source": [
    "### Making Decisions: Condicionals - if, elif & else\n",
    "    - A program has very limited functionality if it's not able to make decisions.\n",
    "    - Conditionals enable us to execute a portion of code based on some decision.\n",
    "    - In Python, we state conditionals with the if statement.\n",
    "    - Comparison operator (==)\n",
    "    - BOOLEAN LOGIC\n",
    "        - and, or, not\n",
    "        - & | ~"
   ]
  },
  {
   "cell_type": "code",
   "execution_count": null,
   "id": "a709c1f3-6939-453f-ac7b-6d7befa83914",
   "metadata": {},
   "outputs": [],
   "source": [
    "battery_pct = float(input(\"% of battery: \"))\n",
    "fuel_pct = float(input(\"% of fuel: \"))\n",
    "if battery_pct >= 5:\n",
    "    if fuel_pct <= 10:\n",
    "        action = \"Refuel\"\n",
    "    elif 10 < fuel_pct <= 30:\n",
    "        action = \"Short Trip\"\n",
    "    elif 30 < fuel_pct <= 75:\n",
    "        action = \"Normal Trip\"\n",
    "    else:\n",
    "        action = \"Long Trip\"\n",
    "else:\n",
    "    action = \"Charge the Battery\"\n",
    "\n",
    "print(action)"
   ]
  },
  {
   "cell_type": "markdown",
   "id": "e67bbc1c-65fa-46c0-bb25-9abdd8fdd668",
   "metadata": {},
   "source": [
    "This is generally not good practice, it would be better to decompose this into different functions and make it more readable."
   ]
  },
  {
   "cell_type": "markdown",
   "id": "bf0663b7-0fdf-4b7c-b7cc-0bbd1b493677",
   "metadata": {},
   "source": [
    "### BOOLEAN LOGIC: and or not"
   ]
  },
  {
   "cell_type": "code",
   "execution_count": null,
   "id": "aab8b334-8d65-4dfc-bd0b-e75908b248c2",
   "metadata": {},
   "outputs": [],
   "source": [
    "# Checks if a number is between 10 and 20, or is less than 5 and not equal to 0\n",
    "number = int(input(\"Enter the number: \"))\n",
    "if (number >= 10 and number <= 20) or (number < 5 and number != 0):\n",
    "    print(\"The number is within the desired range or is less than 5 and not equal to zero.\")\n",
    "else:\n",
    "    print(\"The number does not satisfy the desired conditions.\")"
   ]
  },
  {
   "cell_type": "markdown",
   "id": "aeff6ef2-6323-4404-8e0f-781a3ff5c0b2",
   "metadata": {},
   "source": [
    "# Checks if a number is between 10 and 20, or is less than 5 and not equal to 0, using the not operator\n",
    "number = int(input(\"Enter the number: \"))\n",
    "if not ((number < 10 or number > 20) and (number >= 5 or number == 0)):\n",
    "    print(\"The number is within the desired range or is less than 5 and not equal to zero.\")\n",
    "else:\n",
    "    print(\"The number does not satisfy the desired conditions.\")"
   ]
  },
  {
   "cell_type": "markdown",
   "id": "8f634fdc-d2b2-4362-9905-7ef75c4cce04",
   "metadata": {},
   "source": [
    "### Installing Packages - pip install packages\n",
    "- \n",
    "The exclamation point (!) is used in some command-line interfaces, such as Jupyter Notebook and Google Colab, to indicate that the command should be executed in the operating system rather than interpreted as Python code. In environments like these, terminal commands start with an exclamation point to differentiate them from Python codes"
   ]
  },
  {
   "cell_type": "code",
   "execution_count": null,
   "id": "ca6e3b70-6c09-478a-b1a3-fa5e15701a2e",
   "metadata": {},
   "outputs": [],
   "source": [
    "# Installing Pandas\n",
    "!pip install pandas"
   ]
  },
  {
   "cell_type": "markdown",
   "id": "b44967f5-c382-4f6a-bd7e-15533a9309a3",
   "metadata": {},
   "source": [
    "https://pandas.pydata.org/docs/"
   ]
  },
  {
   "cell_type": "code",
   "execution_count": null,
   "id": "5b604d98-bd4d-4e43-b26b-e6a49ab4dbd7",
   "metadata": {},
   "outputs": [],
   "source": [
    "# Importing packages\n",
    "# It's common practice to import Pandas with an alias\n",
    "import pandas as pd\n",
    "# Reading the Excel file directly into a DataFrame\n",
    "df = pd.read_excel(r\"C:\\Users\\Miguel Caldeira\\Documents\\GitHub\\Data-Science-Projects\\Postgrad_AI_ML\\Python_Introduction\\Book1.xlsx\")\n",
    "df"
   ]
  },
  {
   "cell_type": "markdown",
   "id": "49e3b236-4be5-490a-a684-4a638cd836ae",
   "metadata": {},
   "source": [
    "### Boolean Logic: & | ~"
   ]
  },
  {
   "cell_type": "code",
   "execution_count": null,
   "id": "eb317c46-73c4-4ae6-8be8-e5627615f564",
   "metadata": {},
   "outputs": [],
   "source": [
    "# Creating a mask using boolean logic\n",
    "mask = (df['age'] > 25) & (df['height'] < 175)  # Using '&' condition\n",
    "df[mask]"
   ]
  },
  {
   "cell_type": "code",
   "execution_count": null,
   "id": "64ea2825-a9a0-4d8d-abd7-8ca327163be6",
   "metadata": {},
   "outputs": [],
   "source": [
    "mask_2 = (df[\"age\"] < 30) & ((df[\"height\"] >= 175) | (df[\"height\"] <= 170))\n",
    "df[mask_2]"
   ]
  },
  {
   "cell_type": "code",
   "execution_count": null,
   "id": "a8577ae8-5669-4d9f-9bc7-fd2b03ebf599",
   "metadata": {},
   "outputs": [],
   "source": [
    "# Using 'not' condition\n",
    "mask_not = ~(df['name'].str.startswith('D'))\n",
    "df[mask_not]"
   ]
  },
  {
   "cell_type": "code",
   "execution_count": null,
   "id": "71cabab3-5246-4913-bf97-f089151f35fb",
   "metadata": {},
   "outputs": [],
   "source": [
    "df[\"age\"] > 26"
   ]
  },
  {
   "cell_type": "code",
   "execution_count": null,
   "id": "67a79cd3-cd88-4412-83df-8aa709cd4d8e",
   "metadata": {},
   "outputs": [],
   "source": [
    "a_up26 = df[\"age\"] > 26\n",
    "df[a_up26]"
   ]
  },
  {
   "cell_type": "code",
   "execution_count": null,
   "id": "997dc1d3-3d13-4f34-851e-c96304265946",
   "metadata": {},
   "outputs": [],
   "source": [
    "df[\"height\"] > 170"
   ]
  },
  {
   "cell_type": "code",
   "execution_count": null,
   "id": "74653d31-3b71-4a13-b913-91f59119c73a",
   "metadata": {},
   "outputs": [],
   "source": [
    "h_up170 = df[\"height\"] > 170\n",
    "df[h_up170]"
   ]
  },
  {
   "cell_type": "code",
   "execution_count": null,
   "id": "3fef37dc-26fc-400f-a357-5c88f86a9ce9",
   "metadata": {},
   "outputs": [],
   "source": [
    "(df[\"age\"] > 26) & (df[\"height\"] < 170)"
   ]
  },
  {
   "cell_type": "code",
   "execution_count": null,
   "id": "f4795537-5552-4f06-88c1-0fc534759b9a",
   "metadata": {},
   "outputs": [],
   "source": [
    "a_up26_h_low170 = (df[\"age\"] > 26) & (df[\"height\"] < 170)\n",
    "df[a_up26_h_low170]"
   ]
  },
  {
   "cell_type": "markdown",
   "id": "a88181d4-a43c-493d-859d-bb5932af4aab",
   "metadata": {},
   "source": [
    "# Lists and Tuples\n",
    "- Data structures\n",
    "- So far we've stored only single values in variables\n",
    "- Python's list allows us to store multiple values"
   ]
  },
  {
   "cell_type": "code",
   "execution_count": null,
   "id": "bd2a1d80-8e9a-43c9-af5e-ea360e8f1bac",
   "metadata": {},
   "outputs": [],
   "source": [
    "# Create Empty List\n",
    "l1 = list()\n",
    "l2 = []\n",
    "# Create list with content\n",
    "lst_ints = [1,2,3,4,5]\n",
    "lst_floats = [3.14, 9.8, 6.64e-34]\n",
    "lst_str = [\"cobra\", \"anaconda\", \"python\"]\n",
    "lst_mixed = [1, 3.14, \"cobra\"]\n",
    "# Size of the list len() function # and many other data structures\n",
    "len(lst_ints)"
   ]
  },
  {
   "cell_type": "code",
   "execution_count": null,
   "id": "d1a341c0-77bf-4e0a-ad32-c82d3eb1e4e1",
   "metadata": {},
   "outputs": [],
   "source": [
    "# Adding Elements\n",
    "# Like strings, lists have several methods that help with their interaction.\n",
    "lst_floats = [3.14, 9.8, 6.64e-34]\n",
    "lst_floats.append(1.61) # add golden ratio\n",
    "lst_floats += [2.7] # add euler's constant, less efficient\n",
    "print(lst_floats) # -> [3.14, 9.8, 6.64e-34, 1.61, 2.7]"
   ]
  },
  {
   "cell_type": "code",
   "execution_count": null,
   "id": "e560e72f-e13f-4f92-948a-f85700ffbb96",
   "metadata": {},
   "outputs": [],
   "source": [
    "# Lists support the + operator: the list on the right is concatenated to the list on the left\n",
    "lst_floats = lst_floats + [2.7]\n",
    "print(lst_floats)"
   ]
  },
  {
   "cell_type": "code",
   "execution_count": null,
   "id": "689fc931-44d7-41e2-9267-74292b489574",
   "metadata": {},
   "outputs": [],
   "source": [
    "# We can also add elements at specific positions with the .insert method\n",
    "# add the double of pi at index 0\n",
    "lst_floats.insert(0, 3.14*2)\n",
    "print(lst_floats)"
   ]
  },
  {
   "cell_type": "markdown",
   "id": "0db1601e-a1da-47bf-ad8f-9f02dbe2cecf",
   "metadata": {},
   "source": [
    "### Slicing"
   ]
  },
  {
   "cell_type": "code",
   "execution_count": null,
   "id": "26ea721c-e5aa-4386-a14c-104bee460531",
   "metadata": {},
   "outputs": [],
   "source": [
    "# GETTING AN ELEMENT\n",
    "# List indeces are 0-based.\n",
    "l = [1,2,3,4,5,6]"
   ]
  },
  {
   "cell_type": "code",
   "execution_count": null,
   "id": "6502a3c4-d5fd-43ff-9094-728ebfa4b996",
   "metadata": {},
   "outputs": [],
   "source": [
    "l[0] # gives the 1st element -> 1"
   ]
  },
  {
   "cell_type": "code",
   "execution_count": null,
   "id": "4af6e84d-b607-42a3-adf1-37c2c08c8427",
   "metadata": {},
   "outputs": [],
   "source": [
    "l[1] # gives the 2nd element -> 2"
   ]
  },
  {
   "cell_type": "code",
   "execution_count": null,
   "id": "1b7eb071-abe6-4e03-a8d6-eed59142d818",
   "metadata": {},
   "outputs": [],
   "source": [
    "l[-1] # gives the last element -> 6"
   ]
  },
  {
   "cell_type": "code",
   "execution_count": null,
   "id": "03d7abf0-de25-424f-b6d3-c0189d017f2a",
   "metadata": {},
   "outputs": [],
   "source": [
    "l[-2] # gives the second last element -> 5"
   ]
  },
  {
   "cell_type": "code",
   "execution_count": null,
   "id": "e2f637b6-19c2-4e4f-8b89-bd5aa5f8f150",
   "metadata": {},
   "outputs": [],
   "source": [
    "# SLICING\n",
    "# We may get a slice of the list\n",
    "l = [1,2,3,4,5,6]\n",
    "l[0:3] # returns a list with all elements\n",
    "# from the 1st to the 3rd elements\n",
    "# The second index is not included in the slice"
   ]
  },
  {
   "cell_type": "markdown",
   "id": "e6494124-f585-4a0a-bc4e-e8063d6aae7c",
   "metadata": {},
   "source": [
    "### Slicing Rules\n",
    "- list[A:B] or list [A:B:C]\n",
    "- A is the starting index of the slice\n",
    "    - if not supplied, it's assumed to be the beginning\n",
    "- B is the last index of the slice, but is not included\n",
    "    - if not supplied, it's assumed to be the end\n",
    "- C is the jump between consecutive elements\n",
    "    - if not supplied, it's assumed to be 1\n",
    "    - if it is negative, we get elements in the reverse order "
   ]
  },
  {
   "cell_type": "markdown",
   "id": "ad532490-411a-42f0-8e11-ea7f118bef08",
   "metadata": {},
   "source": [
    "SLICING EXAMPLES"
   ]
  },
  {
   "cell_type": "code",
   "execution_count": null,
   "id": "123fe868-616d-4d2a-8f1a-47c78c2161a0",
   "metadata": {},
   "outputs": [],
   "source": [
    "l[0:3] # returns a list with all elements starting\n",
    "# on index 0 and ending on 2 -> [1,2,3]"
   ]
  },
  {
   "cell_type": "code",
   "execution_count": null,
   "id": "7b0d66f8-acc1-4d36-8232-eca0f2f2326d",
   "metadata": {},
   "outputs": [],
   "source": [
    "l[0:1] # returns a list with just the 1st element -> [1]"
   ]
  },
  {
   "cell_type": "code",
   "execution_count": null,
   "id": "6a0cb561-7a74-49ac-82a8-79d226956cfb",
   "metadata": {},
   "outputs": [],
   "source": [
    "l[1:1] # returns an empty list -> []"
   ]
  },
  {
   "cell_type": "code",
   "execution_count": null,
   "id": "2083f5c3-27c0-4c21-8cd1-65b6b0d17f91",
   "metadata": {},
   "outputs": [],
   "source": [
    "l[:] # returns all elements of the list -> [1,2,3,4,5,6]"
   ]
  },
  {
   "cell_type": "code",
   "execution_count": null,
   "id": "c86e98bf-b450-494f-9591-15ef2f6c0309",
   "metadata": {},
   "outputs": [],
   "source": [
    "l[:-2] # returns all elements except the last 2 -> [1,2,3,4]"
   ]
  },
  {
   "cell_type": "code",
   "execution_count": null,
   "id": "9b819851-82b7-4625-b03a-5b08cb2d7283",
   "metadata": {},
   "outputs": [],
   "source": [
    "l[-3:-1] # all elements starting on the 3rd last position\n",
    "# and finishing on the 2nd last -> [4,5]"
   ]
  },
  {
   "cell_type": "code",
   "execution_count": null,
   "id": "e03326d8-40e1-4263-b978-6447130a93da",
   "metadata": {},
   "outputs": [],
   "source": [
    "l[-3:] # all elements from the 3rd last onwards -> [4,5,6]"
   ]
  },
  {
   "cell_type": "code",
   "execution_count": null,
   "id": "5d19b242-25d8-4d38-bdd6-65f5c4c28e05",
   "metadata": {},
   "outputs": [],
   "source": [
    "l[::2] # every other element, starting on index 0 -> [1,3,5]"
   ]
  },
  {
   "cell_type": "code",
   "execution_count": null,
   "id": "b29bc25e-3007-40b8-93ac-781aadfd0355",
   "metadata": {},
   "outputs": [],
   "source": [
    "l[1::2] # every other element, starting on index 1 -> [2,4,6]"
   ]
  },
  {
   "cell_type": "code",
   "execution_count": null,
   "id": "f9f20f58-adc5-4ad2-b054-ab494724a88c",
   "metadata": {},
   "outputs": [],
   "source": [
    "l[1::3] # every 3rd element, starting on index 1 -> [2,5]"
   ]
  },
  {
   "cell_type": "code",
   "execution_count": null,
   "id": "9fc539e7-9a9d-43a1-a63e-4a91b402311f",
   "metadata": {},
   "outputs": [],
   "source": [
    "l[::-1] # all elements in reverse order -> [6,5,4,3,2,1]"
   ]
  },
  {
   "cell_type": "code",
   "execution_count": null,
   "id": "e35615b2-8c23-4846-a93a-6be996d177c9",
   "metadata": {},
   "outputs": [],
   "source": [
    "l[::-2] # every other element in reverse order -> [6,4,2]"
   ]
  },
  {
   "cell_type": "code",
   "execution_count": null,
   "id": "abfa3d01-0443-491e-bd06-706410569a20",
   "metadata": {},
   "outputs": [],
   "source": [
    "l[4:0:-1] # all elements from the 5th to the 2st in reverse -> [5,4,3,2]"
   ]
  },
  {
   "cell_type": "code",
   "execution_count": null,
   "id": "6277eefd-8d37-49d0-9e8e-a27bbd64bfb0",
   "metadata": {},
   "outputs": [],
   "source": [
    "l[-2:0:-1] # all elements from the 2th last to the 1st in reverse -> [5,4,3,2]"
   ]
  },
  {
   "cell_type": "markdown",
   "id": "8d53454a-58f2-42c0-b3f2-e7494619e894",
   "metadata": {},
   "source": [
    "REMOVING AN ELEMENT"
   ]
  },
  {
   "cell_type": "code",
   "execution_count": null,
   "id": "5f10abaa-4874-4183-8c23-2f813ab6f78e",
   "metadata": {},
   "outputs": [],
   "source": [
    "# The remove method deletes a given value from the list.\n",
    "# If it exists more than once in the list, the 1st occurrence is removed.\n",
    "# lst_floats.remove(9.8) # removes the value"
   ]
  },
  {
   "cell_type": "code",
   "execution_count": null,
   "id": "2b5ccf7a-5856-4caa-a76c-7188a7b02221",
   "metadata": {},
   "outputs": [],
   "source": [
    "# CONCATENATE 2 LISTS\n",
    "lx = [2, 25]\n",
    "lx.extend(lst_floats)\n",
    "lx += lst_floats\n",
    "print(lx)"
   ]
  },
  {
   "cell_type": "code",
   "execution_count": null,
   "id": "7e965486-9db3-4307-a538-66f7fa4d9f1f",
   "metadata": {},
   "outputs": [],
   "source": [
    "# Counting\n",
    "lx.count(2.7)"
   ]
  },
  {
   "cell_type": "code",
   "execution_count": null,
   "id": "8fc6df07-7f44-4342-9cf5-88ded2d50fd5",
   "metadata": {},
   "outputs": [],
   "source": [
    "# Check Existence\n",
    "if 3.14 in lx:\n",
    "    print(\"We have a Pi\")\n",
    "# The in operator checks if thee value on the left exists inside the data structure on the right"
   ]
  },
  {
   "cell_type": "code",
   "execution_count": null,
   "id": "b9a5d5d2-bd41-45b2-83fc-7aa2fa34ba6d",
   "metadata": {},
   "outputs": [],
   "source": [
    "# .index\n",
    "pi_pos = lx.index(3.14)\n",
    "print(f\"I found Pi at index {pi_pos}\")\n",
    "# The .index method returns the position where the given value is in the list.\n",
    "# If the value is not in the list, a ValueError is thrown (like .remove())."
   ]
  },
  {
   "cell_type": "markdown",
   "id": "1ee6a2b2-45a5-4aa2-82c1-d632313b9042",
   "metadata": {},
   "source": [
    "OTHER METHODS"
   ]
  },
  {
   "cell_type": "code",
   "execution_count": null,
   "id": "e5373fb8-81a7-47a3-812e-dbe36758fdfd",
   "metadata": {},
   "outputs": [],
   "source": [
    "lz = [1, 25, 14, 75, 15, 96, 75]\n",
    "lz.reverse()\n",
    "print(lz)"
   ]
  },
  {
   "cell_type": "code",
   "execution_count": null,
   "id": "2f295e21-cbcf-415e-a061-f8dbeea1b67c",
   "metadata": {},
   "outputs": [],
   "source": [
    "lz = lz[::-1] # equivalent to l.reverse()\n",
    "print(lz)"
   ]
  },
  {
   "cell_type": "code",
   "execution_count": null,
   "id": "2085ff37-1e9b-41af-89a5-52993ca65b5c",
   "metadata": {},
   "outputs": [],
   "source": [
    "lz.sort() # sorts all values\n",
    "print(lz)"
   ]
  },
  {
   "cell_type": "code",
   "execution_count": null,
   "id": "94d0ddc3-7eff-480e-b5fc-379a1b367f11",
   "metadata": {},
   "outputs": [],
   "source": [
    "lz.pop(0) # removes and returns the element at index 0"
   ]
  },
  {
   "cell_type": "code",
   "execution_count": null,
   "id": "586e86c5-702c-4c98-964a-5b46f0f1f1fb",
   "metadata": {},
   "outputs": [],
   "source": [
    "lz.pop() # removes and returns the last element"
   ]
  },
  {
   "cell_type": "markdown",
   "id": "c03b9a66-2409-4f95-b1f2-237706ccaa14",
   "metadata": {},
   "source": [
    "### TUPLE\n",
    "- A tuple works exactly like a list, but doesn't support assignment\n",
    "- It is an imutable data structure\n",
    "- We cannot change its value after creation"
   ]
  },
  {
   "cell_type": "code",
   "execution_count": null,
   "id": "85235c78-31ea-4903-8725-ea2f17e8c9fb",
   "metadata": {},
   "outputs": [],
   "source": [
    "t = (1,2,3,4)\n",
    "t[0] # -> 1\n",
    "# t[0] = 7 -> TypeError: 'tuple' object does not support item assignment"
   ]
  },
  {
   "cell_type": "code",
   "execution_count": null,
   "id": "bdfc9621-a78f-4eac-ad12-f86b12052bb4",
   "metadata": {},
   "outputs": [],
   "source": [
    "# Slicing and concatenation work as in lists\n",
    "t = (1,2,3,4)\n",
    "t[:-1] # -> (1,2,3)"
   ]
  },
  {
   "cell_type": "code",
   "execution_count": null,
   "id": "390e7d61-c961-4da0-b159-37c4bf10b9cf",
   "metadata": {},
   "outputs": [],
   "source": [
    "t + (5,6) # -> (1,2,3,4,5,6)"
   ]
  },
  {
   "cell_type": "markdown",
   "id": "5025fd21-7c14-42a9-b64d-b29379eb0a6a",
   "metadata": {},
   "source": [
    "TUPLE <-> LIST"
   ]
  },
  {
   "cell_type": "code",
   "execution_count": null,
   "id": "359de3b4-7607-4d5c-a6b2-0b44b6df64c8",
   "metadata": {},
   "outputs": [],
   "source": [
    "# Tuple to List\n",
    "l = list(t)\n",
    "print(l)"
   ]
  },
  {
   "cell_type": "code",
   "execution_count": null,
   "id": "b2ac9726-6156-4d15-aa53-b9fe83ee7625",
   "metadata": {},
   "outputs": [],
   "source": [
    "# List to Tuple\n",
    "t2 = tuple([5,6,7,8])\n",
    "print(t2)"
   ]
  },
  {
   "cell_type": "markdown",
   "id": "d982ce8e-1060-42c3-89ed-98169cfa4b35",
   "metadata": {},
   "source": [
    "### Unpacking Lists and Tuples\n",
    "- Very important in functions in Python to return tuples with multiple values."
   ]
  },
  {
   "cell_type": "code",
   "execution_count": null,
   "id": "67bbf0fd-2639-451e-99cc-ac92b3219b80",
   "metadata": {},
   "outputs": [],
   "source": [
    "# Unpacking with tuples\n",
    "t = (1,2,3)\n",
    "a,b,c = t # now a=1, b=2, c=3\n",
    "print(a)"
   ]
  },
  {
   "cell_type": "code",
   "execution_count": null,
   "id": "791c1828-3322-4322-8e2b-51f630028933",
   "metadata": {},
   "outputs": [],
   "source": [
    "# Unpacking with lists\n",
    "l = [4,5,6]\n",
    "a,b,c = l # a=4, b=5, c=6\n",
    "print(c)"
   ]
  },
  {
   "cell_type": "code",
   "execution_count": null,
   "id": "37452d7a-4ea6-4d20-b3dd-22eeef0e1f7b",
   "metadata": {},
   "outputs": [],
   "source": [
    "# Unpacking lists with many values into variables\n",
    "l=[1,2,3,4,5,6]\n",
    "a,b,*nums = l # a=1, b=2, nums=[3,4,5,6]\n",
    "print(nums)"
   ]
  },
  {
   "cell_type": "markdown",
   "id": "49a9d49b-0757-4a6f-b4fc-8571a35b8934",
   "metadata": {},
   "source": [
    "### Loops: while, for\n",
    "- As long as this is true, print this, otherwise print this.\n",
    "- If we want to perform the cycle 10 times, we are iterating 10 times.\n",
    "- At each iteration we will check the status.\n",
    "- What is being used fot the condition must change, otherwise we might have an infinite loop."
   ]
  },
  {
   "cell_type": "code",
   "execution_count": null,
   "id": "39dc3d59-a84e-42a2-8ad6-c3027b81a51c",
   "metadata": {},
   "outputs": [],
   "source": [
    "is_coffee_ready = False\n",
    "while is_coffee_ready != True:\n",
    "    print(\"continue groggy\")\n",
    "    is_coffee_ready = check_coffee_status()\n",
    "    # This would be an iteration that would communicate with the coffee machine\n",
    "    # At some point the coffee will be ready and we exit the cycle."
   ]
  },
  {
   "cell_type": "code",
   "execution_count": null,
   "id": "f5afba6e-2920-4ce8-9dd1-812b1838cda5",
   "metadata": {},
   "outputs": [],
   "source": [
    "# Define a list - Fibonacci numbers\n",
    "lf = [1, 2, 3, 5, 8, 13]\n",
    "\n",
    "# Initialize variables for total sum and list index\n",
    "total, i = 0, 0\n",
    "\n",
    "# Iterate through the list until the end is reached\n",
    "while i < len(lf):\n",
    "    # Add the current element to the total sum\n",
    "    total += lf[i]\n",
    "    # Move to the next element in the list\n",
    "    i += 1\n",
    "\n",
    "# Print the final sum of all elements in the list\n",
    "print(total)\n",
    "\n",
    "# Actually, Python has the sum function, so don't do that"
   ]
  },
  {
   "cell_type": "code",
   "execution_count": null,
   "id": "eeaf9a05-5f98-4d64-b98c-2093049e66e9",
   "metadata": {},
   "outputs": [],
   "source": [
    "# Actually, Python has the sum function, so don't do that\n",
    "total = sum(lf)\n",
    "print(total)"
   ]
  },
  {
   "cell_type": "markdown",
   "id": "4b23256d-15ec-4908-868a-05eb6f241f8d",
   "metadata": {},
   "source": [
    "- Initialize variables for total sum and list index\n",
    "    - total, i = 0, 0\n",
    "- É igual:\n",
    "    - total = 0\n",
    "    - i = 0"
   ]
  },
  {
   "cell_type": "markdown",
   "id": "090b3dd7-0e17-41eb-ba3a-8b449954a8ce",
   "metadata": {},
   "source": [
    "- We had to declare a variable just for increasing the position of the list element, but we also have the for loop wich makes this kind of logic easier."
   ]
  },
  {
   "cell_type": "code",
   "execution_count": null,
   "id": "24de4d21-2855-4458-83b1-117de7c7a0dd",
   "metadata": {},
   "outputs": [],
   "source": [
    "# Define a list - Fibonacci numbers\n",
    "lf = [1, 2, 3, 5, 8, 13]\n",
    "\n",
    "# Initialize a variable named total to store the sum of elements\n",
    "total = 0\n",
    "\n",
    "# Iterate over the indices of the list 'l' using the range function\n",
    "for i in range(len(lf)):\n",
    "    # Access each element of the list using its index and add it to the 'total'\n",
    "    total += lf[i]\n",
    "\n",
    "# Print the final total sum\n",
    "print(total)\n",
    "\n",
    "# Here the range funcion returns a list from 0 to thee size of the list lf [0, 1, 2, 3, 4, 5]"
   ]
  },
  {
   "cell_type": "code",
   "execution_count": null,
   "id": "78cbe51a-62f1-4303-bcc8-bf3feca5927f",
   "metadata": {},
   "outputs": [],
   "source": [
    "movies = [\"Matrix\", \"Dune\", \"Terminator\"]\n",
    "total = 0\n",
    "for i in range(len(movies)):\n",
    "    print(f\"movie={movies[i]}\")"
   ]
  },
  {
   "cell_type": "markdown",
   "id": "e1fe5ce3-a024-4a23-9704-f6fa23e08a5d",
   "metadata": {},
   "source": [
    "### Range"
   ]
  },
  {
   "cell_type": "markdown",
   "id": "c7ebc257-2afe-460d-b8cd-46a3bba0adc4",
   "metadata": {},
   "source": [
    "- Actually, range() returns an iterable that goes from a number to another higher number.\n",
    "- We can convert this iterable to a list easily\n",
    "- But we don't have to do it in the context of the loop."
   ]
  },
  {
   "cell_type": "code",
   "execution_count": null,
   "id": "987471fe-6f7a-4639-8b14-c9dcb8df8891",
   "metadata": {},
   "outputs": [],
   "source": [
    "list(range(3)) # -> [0,1,2]"
   ]
  },
  {
   "cell_type": "code",
   "execution_count": null,
   "id": "0910ab23-4952-4814-91ac-a88658bb4291",
   "metadata": {},
   "outputs": [],
   "source": [
    "list(range(2,6)) # -> [2,3,4,5]"
   ]
  },
  {
   "cell_type": "code",
   "execution_count": null,
   "id": "00434969-ae5d-4be7-a8f7-659fabf3d453",
   "metadata": {},
   "outputs": [],
   "source": [
    "list(range(0,10,2)) # -> [0,2,4,6,8]"
   ]
  },
  {
   "cell_type": "code",
   "execution_count": null,
   "id": "c46c9222-c47a-4c1c-9193-a2fe11693ba6",
   "metadata": {},
   "outputs": [],
   "source": [
    "list(range(10,0,-2)) # -> [10,8,6,4,2]"
   ]
  },
  {
   "cell_type": "code",
   "execution_count": null,
   "id": "f27e3ef3-2dd7-4e77-aa2b-ddce24f07bee",
   "metadata": {},
   "outputs": [],
   "source": [
    "range(5)"
   ]
  },
  {
   "cell_type": "code",
   "execution_count": null,
   "id": "ed9c47a1-4d08-4403-b3b6-608ad2744cae",
   "metadata": {},
   "outputs": [],
   "source": [
    "list(range(5))"
   ]
  },
  {
   "cell_type": "code",
   "execution_count": null,
   "id": "dbe813e3-386a-457f-a998-e99025897bb7",
   "metadata": {},
   "outputs": [],
   "source": [
    "list(range(2,5))"
   ]
  },
  {
   "cell_type": "code",
   "execution_count": null,
   "id": "a35bf919-b272-4b0e-9986-31d6aae9f195",
   "metadata": {},
   "outputs": [],
   "source": [
    "list(range(2,50, 5))"
   ]
  },
  {
   "cell_type": "markdown",
   "id": "6931bfb0-50e2-432c-b040-75f8fab67be4",
   "metadata": {},
   "source": [
    "- What is an iterable?\n",
    "    - a\n",
    "- What is an iteration?\n",
    "    - a"
   ]
  },
  {
   "cell_type": "code",
   "execution_count": null,
   "id": "cc12a957-44b8-4731-9cc9-336cfd5087cd",
   "metadata": {},
   "outputs": [],
   "source": [
    "for movie in movies:\n",
    "  print(movie)"
   ]
  },
  {
   "cell_type": "markdown",
   "id": "00503433-de35-478f-811a-a0473ba374ce",
   "metadata": {},
   "source": [
    "### Enumerate\n",
    "- Let's now say we given a list of phrases and want to print the position of the phrases that include the word \"Python\"."
   ]
  },
  {
   "cell_type": "code",
   "execution_count": null,
   "id": "07080e78-6dfb-453e-805d-d94ab4939593",
   "metadata": {},
   "outputs": [],
   "source": [
    "phrases = [\n",
    "\"The last patient was bitten by a Python.\",\n",
    "\"The number of bites of last year is the highest ever.\",\n",
    "\"The number of Pythons in the wild must have increased.\",\n",
    "\"We must implement some policy to help us.\"\n",
    "]"
   ]
  },
  {
   "cell_type": "code",
   "execution_count": null,
   "id": "08313c95-2c95-4e19-b7dc-248f01b5f62c",
   "metadata": {},
   "outputs": [],
   "source": [
    "# One way to solve this would be to use the range() function\n",
    "for i in range(len(phrases)):\n",
    "    if \"Python\" in phrases[i]:\n",
    "        print(i)"
   ]
  },
  {
   "cell_type": "code",
   "execution_count": null,
   "id": "6b727bf7-74a5-486b-95cd-3aecab3448a6",
   "metadata": {},
   "outputs": [],
   "source": [
    "for phrase in phrases:\n",
    "    if \"Python\" in phrase:\n",
    "        print(phrase)"
   ]
  },
  {
   "cell_type": "code",
   "execution_count": null,
   "id": "876caa55-f594-4891-960a-74f10605c725",
   "metadata": {},
   "outputs": [],
   "source": [
    "for i, phrase in enumerate(phrases):\n",
    "    if \"Python\" in phrases[i]:\n",
    "        print(i)"
   ]
  },
  {
   "cell_type": "code",
   "execution_count": null,
   "id": "920c9eb7-8f3f-4029-bb3f-e000d694f2c7",
   "metadata": {},
   "outputs": [],
   "source": [
    "for x in enumerate(phrases):\n",
    "    print(x)\n",
    "# Each iteration is returning a tuple with the position of the element and the element itself."
   ]
  },
  {
   "cell_type": "markdown",
   "id": "c0ec13b6-17a6-49f0-86f5-50f19a752037",
   "metadata": {},
   "source": [
    "### Zip"
   ]
  },
  {
   "cell_type": "code",
   "execution_count": 63,
   "id": "e9215ca2-e751-4b9a-9106-f8184b532ad3",
   "metadata": {},
   "outputs": [],
   "source": [
    "# 1:10:00H"
   ]
  },
  {
   "cell_type": "markdown",
   "id": "4b0f3c1d-da25-4269-9a0d-65cdc1c94129",
   "metadata": {},
   "source": [
    "### List Comprehensions"
   ]
  },
  {
   "cell_type": "markdown",
   "id": "d932d14b-3e16-4f53-be09-8c66894df547",
   "metadata": {},
   "source": [
    "### Exercise with loops and lists"
   ]
  },
  {
   "cell_type": "markdown",
   "id": "61a7d37e-7dc7-4f6b-8f75-2e60afbcb2b2",
   "metadata": {},
   "source": [
    "### Dictionaries"
   ]
  },
  {
   "cell_type": "markdown",
   "id": "cc440619-bd8d-49c5-8f1d-40b728670e0e",
   "metadata": {},
   "source": [
    "### Dict Comprehensions"
   ]
  }
 ],
 "metadata": {
  "kernelspec": {
   "display_name": "Python 3 (ipykernel)",
   "language": "python",
   "name": "python3"
  },
  "language_info": {
   "codemirror_mode": {
    "name": "ipython",
    "version": 3
   },
   "file_extension": ".py",
   "mimetype": "text/x-python",
   "name": "python",
   "nbconvert_exporter": "python",
   "pygments_lexer": "ipython3",
   "version": "3.11.3"
  }
 },
 "nbformat": 4,
 "nbformat_minor": 5
}
